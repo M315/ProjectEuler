{
 "cells": [
  {
   "cell_type": "code",
   "execution_count": 6,
   "id": "ac52006b",
   "metadata": {
    "ExecuteTime": {
     "end_time": "2021-08-29T17:19:56.504830Z",
     "start_time": "2021-08-29T17:19:56.501395Z"
    }
   },
   "outputs": [],
   "source": [
    "def erastothenes_sieve(n = 10000):\n",
    "    prime = []\n",
    "    A = [True for n in range(n)]\n",
    "    \n",
    "    for i in range(2,n):\n",
    "        if A[i]:\n",
    "            prime.append(i)\n",
    "            \n",
    "            j = i*i\n",
    "            while j < n:\n",
    "                A[j] = False\n",
    "                j += i\n",
    "    \n",
    "    return prime"
   ]
  },
  {
   "cell_type": "code",
   "execution_count": 15,
   "id": "65afb642",
   "metadata": {
    "ExecuteTime": {
     "end_time": "2021-08-29T17:34:43.971961Z",
     "start_time": "2021-08-29T17:34:32.325477Z"
    }
   },
   "outputs": [],
   "source": [
    "N = 100000000\n",
    "\n",
    "prime = erastothenes_sieve(int(N/2))"
   ]
  },
  {
   "cell_type": "code",
   "execution_count": 16,
   "id": "b86a10c8",
   "metadata": {
    "ExecuteTime": {
     "end_time": "2021-08-29T17:34:50.231798Z",
     "start_time": "2021-08-29T17:34:45.980583Z"
    }
   },
   "outputs": [
    {
     "name": "stdout",
     "output_type": "stream",
     "text": [
      "17427258\n"
     ]
    }
   ],
   "source": [
    "count = 0\n",
    "\n",
    "for i in range(len(prime)):\n",
    "    j = i\n",
    "    \n",
    "    while j < len(prime) and (prime[i] * prime[j]) < N:\n",
    "        count += 1\n",
    "        j += 1\n",
    "\n",
    "print(count)"
   ]
  }
 ],
 "metadata": {
  "kernelspec": {
   "display_name": "Python 3",
   "language": "python",
   "name": "python3"
  },
  "language_info": {
   "codemirror_mode": {
    "name": "ipython",
    "version": 3
   },
   "file_extension": ".py",
   "mimetype": "text/x-python",
   "name": "python",
   "nbconvert_exporter": "python",
   "pygments_lexer": "ipython3",
   "version": "3.9.5"
  }
 },
 "nbformat": 4,
 "nbformat_minor": 5
}
