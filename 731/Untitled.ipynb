{
 "cells": [
  {
   "cell_type": "code",
   "execution_count": 62,
   "metadata": {},
   "outputs": [
    {
     "name": "stdout",
     "output_type": "stream",
     "text": [
      "1\t1\t3\n",
      "2\t1\t9\n",
      "3\t2\t27\n",
      "4\t2\t81\n",
      "5\t3\t243\n",
      "6\t3\t729\n",
      "7\t4\t2187\n",
      "8\t4\t6561\n",
      "9\t5\t19683\n",
      "10\t5\t59049\n",
      "11\t6\t177147\n",
      "12\t6\t531441\n",
      "13\t7\t1594323\n",
      "14\t7\t4782969\n",
      "15\t8\t14348907\n",
      "16\t8\t43046721\n",
      "17\t9\t129140163\n",
      "18\t9\t387420489\n",
      "19\t10\t1162261467\n",
      "20\t10\t3486784401\n",
      "21\t11\t10460353203\n",
      "22\t11\t31381059609\n",
      "23\t11\t94143178827\n",
      "24\t12\t282429536481\n",
      "25\t12\t847288609443\n",
      "26\t13\t2541865828329\n",
      "27\t13\t7625597484987\n",
      "28\t14\t22876792454961\n",
      "29\t14\t68630377364883\n",
      "30\t15\t205891132094649\n",
      "31\t15\t617673396283947\n",
      "32\t16\t1853020188851841\n",
      "33\t16\t5559060566555523\n",
      "34\t17\t16677181699666569\n",
      "35\t17\t50031545098999707\n",
      "36\t18\t150094635296999121\n",
      "37\t18\t450283905890997363\n",
      "38\t19\t1350851717672992089\n",
      "39\t19\t4052555153018976267\n"
     ]
    }
   ],
   "source": [
    "for k = 1:39\n",
    "    new = 3^k\n",
    "    println(k, \"\\t\", length(digits(new, base = 10)), \"\\t\", new)\n",
    "end"
   ]
  },
  {
   "cell_type": "code",
   "execution_count": 63,
   "metadata": {},
   "outputs": [
    {
     "data": {
      "text/plain": [
       "5.39659527735429e-16"
      ]
     },
     "execution_count": 63,
     "metadata": {},
     "output_type": "execute_result"
    }
   ],
   "source": [
    "div = 1 / 1853020188851841"
   ]
  }
 ],
 "metadata": {
  "kernelspec": {
   "display_name": "Julia 1.6.0-DEV",
   "language": "julia",
   "name": "julia-1.6"
  },
  "language_info": {
   "file_extension": ".jl",
   "mimetype": "application/julia",
   "name": "julia",
   "version": "1.6.0"
  }
 },
 "nbformat": 4,
 "nbformat_minor": 4
}
