{
 "cells": [
  {
   "cell_type": "markdown",
   "id": "0614dd76",
   "metadata": {},
   "source": [
    "https://projecteuler.net/problem=68"
   ]
  },
  {
   "cell_type": "markdown",
   "id": "02d3ca8d",
   "metadata": {},
   "source": [
    "Solving the 5 gong problem from projecteuler\n",
    "\n",
    "The approach will be to loop through all the possible permutations and check if they form a valid gong of weight 16."
   ]
  },
  {
   "cell_type": "code",
   "execution_count": 2,
   "id": "60b882f2",
   "metadata": {},
   "outputs": [],
   "source": [
    "from itertools import permutations"
   ]
  },
  {
   "cell_type": "code",
   "execution_count": 3,
   "id": "ff980423",
   "metadata": {},
   "outputs": [],
   "source": [
    "#Given a 5-gong checks if its valid and its weight is equal to 16 and returns the value\n",
    "\n",
    "def valid_gong(gong) -> str:\n",
    "    #Check that the first number is the smalles of the exterior ones\n",
    "    m = 10\n",
    "    for i in range(5):\n",
    "        m = min(m, gong[i])\n",
    "    if(gong[0] != m):\n",
    "        return '0'\n",
    "    \n",
    "    #Check that all the lines add the same\n",
    "    w = gong[0] + gong[5] + gong[6]\n",
    "    ret = str(gong[0]) + str(gong[5]) + str(gong[6])\n",
    "    \n",
    "    for i in range(1, 5):\n",
    "        nw = gong[i] + gong[5 + (i%5)] + gong[5 + ((i+1)%5)]\n",
    "        if nw != w:\n",
    "            return str(i)\n",
    "        ret = ret + str(gong[i]) + str(gong[5 + (i%5)]) + str(gong[5 + ((i+1)%5)])\n",
    "    \n",
    "    return ret\n",
    "    "
   ]
  },
  {
   "cell_type": "code",
   "execution_count": 4,
   "id": "940e86ee",
   "metadata": {},
   "outputs": [
    {
     "name": "stdout",
     "output_type": "stream",
     "text": [
      "6531031914842725\n"
     ]
    }
   ],
   "source": [
    "\n",
    "M = '0'\n",
    "\n",
    "for gong in permutations([1,2,3,4,5,6,7,8,9,10]):\n",
    "    val = valid_gong(gong)\n",
    "    if val and M < val:\n",
    "        M = val\n",
    "\n",
    "print(M)\n",
    "        "
   ]
  }
 ],
 "metadata": {
  "kernelspec": {
   "display_name": "Python 3",
   "language": "python",
   "name": "python3"
  },
  "language_info": {
   "codemirror_mode": {
    "name": "ipython",
    "version": 3
   },
   "file_extension": ".py",
   "mimetype": "text/x-python",
   "name": "python",
   "nbconvert_exporter": "python",
   "pygments_lexer": "ipython3",
   "version": "3.9.5"
  }
 },
 "nbformat": 4,
 "nbformat_minor": 5
}
